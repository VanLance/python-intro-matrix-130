{
 "cells": [
  {
   "cell_type": "markdown",
   "metadata": {},
   "source": [
    "# Week 2 - Monday Lesson (variable assignment, loops, lists)"
   ]
  },
  {
   "cell_type": "markdown",
   "metadata": {},
   "source": [
    "## Tasks Today:\n",
    "\n",
    "1) Int & Float assignments <br>\n",
    " &nbsp;&nbsp;&nbsp;&nbsp; a) Assigning int <br>\n",
    " &nbsp;&nbsp;&nbsp;&nbsp; b) Assigning float <br>\n",
    " &nbsp;&nbsp;&nbsp;&nbsp; c) Performing Calculations on ints and floats <br>\n",
    " &nbsp;&nbsp;&nbsp;&nbsp;&nbsp;&nbsp;&nbsp;&nbsp; - Addition <br>\n",
    " &nbsp;&nbsp;&nbsp;&nbsp;&nbsp;&nbsp;&nbsp;&nbsp; - Subtraction <br>\n",
    " &nbsp;&nbsp;&nbsp;&nbsp;&nbsp;&nbsp;&nbsp;&nbsp; - Multiplication <br>\n",
    " &nbsp;&nbsp;&nbsp;&nbsp;&nbsp;&nbsp;&nbsp;&nbsp; - Division <br>\n",
    " &nbsp;&nbsp;&nbsp;&nbsp;&nbsp;&nbsp;&nbsp;&nbsp; - Floor Division <br>\n",
    " &nbsp;&nbsp;&nbsp;&nbsp;&nbsp;&nbsp;&nbsp;&nbsp; - Modulo <br>\n",
    " &nbsp;&nbsp;&nbsp;&nbsp;&nbsp;&nbsp;&nbsp;&nbsp; - Exponential <br>\n",
    "2) String Input-Output <br>\n",
    " &nbsp;&nbsp;&nbsp;&nbsp; a) String Assignment <br>\n",
    " &nbsp;&nbsp;&nbsp;&nbsp; b) print() <br>\n",
    " &nbsp;&nbsp;&nbsp;&nbsp; c) String Concatenation <br>\n",
    " &nbsp;&nbsp;&nbsp;&nbsp; d) Type Conversion <br>\n",
    " &nbsp;&nbsp;&nbsp;&nbsp; e) input() <br>\n",
    " &nbsp;&nbsp;&nbsp;&nbsp; f) format() <br>\n",
    " &nbsp;&nbsp;&nbsp;&nbsp; g) Old Way (python 2) <br>\n",
    "3) <b>In-Class Exercise #1</b> <br>\n",
    "4) If Statements <br>\n",
    " &nbsp;&nbsp;&nbsp;&nbsp; a) 'is' keyword <br>\n",
    " &nbsp;&nbsp;&nbsp;&nbsp; b) 'in' keyword <br>\n",
    " &nbsp;&nbsp;&nbsp;&nbsp; c) 'not in' keyword <br>\n",
    "5) <b>In-Class Exercise #2</b> <br>\n",
    "6) Elif Statements <br>\n",
    "7) Else Statements <br>\n",
    "8) <b>In-Class Exercise #3</b> <br>\n",
    "9) For Loops <br>\n",
    " &nbsp;&nbsp;&nbsp;&nbsp; a) Using 'in' keyword <br>\n",
    " &nbsp;&nbsp;&nbsp;&nbsp; b) Continue Statement <br>\n",
    " &nbsp;&nbsp;&nbsp;&nbsp; c) Break Statement <br>\n",
    " &nbsp;&nbsp;&nbsp;&nbsp; d) Pass Statement <br>\n",
    " &nbsp;&nbsp;&nbsp;&nbsp; e) Double For Loops <br>\n",
    "10) While Loops <br>\n",
    " &nbsp;&nbsp;&nbsp;&nbsp; a) Looping 'While True' <br>\n",
    " &nbsp;&nbsp;&nbsp;&nbsp; b) While and For Loops Used Together <br>\n",
    "11) Built-In Functions <br>\n",
    " &nbsp;&nbsp;&nbsp;&nbsp; a) range() <br>\n",
    " &nbsp;&nbsp;&nbsp;&nbsp; b) len() <br>\n",
    " &nbsp;&nbsp;&nbsp;&nbsp; c) help() <br>\n",
    " &nbsp;&nbsp;&nbsp;&nbsp; d) isinstance() <br>\n",
    " &nbsp;&nbsp;&nbsp;&nbsp; e) abs() <br>\n",
    "12) Try and Except <br>\n",
    "13) Lists <br>\n",
    " &nbsp;&nbsp;&nbsp;&nbsp; a) Declaring Lists <br>\n",
    " &nbsp;&nbsp;&nbsp;&nbsp; b) Indexing a List <br>\n",
    " &nbsp;&nbsp;&nbsp;&nbsp; c) .append() <br>\n",
    " &nbsp;&nbsp;&nbsp;&nbsp; d) .insert() <br>\n",
    " &nbsp;&nbsp;&nbsp;&nbsp; e) .pop() <br>\n",
    " &nbsp;&nbsp;&nbsp;&nbsp; f) .remove() <br>\n",
    " &nbsp;&nbsp;&nbsp;&nbsp; g) del() <br>\n",
    " &nbsp;&nbsp;&nbsp;&nbsp; h) Concatenating Two Lists <br>\n",
    " &nbsp;&nbsp;&nbsp;&nbsp; i) Lists Within Lists <br>\n",
    " &nbsp;&nbsp;&nbsp;&nbsp; j) Looping Through Lists <br>"
   ]
  },
  {
   "cell_type": "markdown",
   "metadata": {},
   "source": [
    "### Int & Float Assignments"
   ]
  },
  {
   "cell_type": "markdown",
   "metadata": {},
   "source": [
    "##### Assigning int"
   ]
  },
  {
   "cell_type": "code",
   "execution_count": 38,
   "metadata": {},
   "outputs": [
    {
     "name": "stdout",
     "output_type": "stream",
     "text": [
      "10\n"
     ]
    },
    {
     "data": {
      "text/plain": [
       "int"
      ]
     },
     "execution_count": 38,
     "metadata": {},
     "output_type": "execute_result"
    }
   ],
   "source": [
    "my_number = 10\n",
    "\n",
    "print(my_number)\n",
    "type(my_number)"
   ]
  },
  {
   "cell_type": "markdown",
   "metadata": {},
   "source": [
    "##### Assinging float"
   ]
  },
  {
   "cell_type": "code",
   "execution_count": 39,
   "metadata": {},
   "outputs": [
    {
     "name": "stdout",
     "output_type": "stream",
     "text": [
      "10.5\n",
      "<class 'float'>\n"
     ]
    }
   ],
   "source": [
    "my_float = 10.5\n",
    "\n",
    "print(my_float)\n",
    "type(my_float)\n",
    "\n",
    "whole_float = 11.0\n",
    "\n",
    "print(type(whole_float))"
   ]
  },
  {
   "cell_type": "markdown",
   "metadata": {},
   "source": [
    "#### Performing Calculations on ints and floats"
   ]
  },
  {
   "cell_type": "markdown",
   "metadata": {},
   "source": [
    "##### Addition"
   ]
  },
  {
   "cell_type": "code",
   "execution_count": 40,
   "metadata": {},
   "outputs": [
    {
     "name": "stdout",
     "output_type": "stream",
     "text": [
      "10\n",
      "15\n"
     ]
    },
    {
     "data": {
      "text/plain": [
       "21.5"
      ]
     },
     "execution_count": 40,
     "metadata": {},
     "output_type": "execute_result"
    }
   ],
   "source": [
    "print(5 + 5)\n",
    "\n",
    "print(my_number + 5)\n",
    "\n",
    "5.5 + 5.5\n",
    "\n",
    "whole_float + my_float"
   ]
  },
  {
   "cell_type": "code",
   "execution_count": 41,
   "metadata": {},
   "outputs": [
    {
     "name": "stdout",
     "output_type": "stream",
     "text": [
      "10\n",
      "15\n"
     ]
    }
   ],
   "source": [
    "print(my_number)\n",
    "\n",
    "# my_number = my_number + 5\n",
    "my_number += 5\n",
    "print(my_number)\n"
   ]
  },
  {
   "cell_type": "markdown",
   "metadata": {},
   "source": [
    "##### Subtraction"
   ]
  },
  {
   "cell_type": "code",
   "execution_count": 42,
   "metadata": {},
   "outputs": [
    {
     "name": "stdout",
     "output_type": "stream",
     "text": [
      "15\n",
      "5\n"
     ]
    }
   ],
   "source": [
    "my_number - 10\n",
    "\n",
    "print(my_number)\n",
    "\n",
    "# my_number = my_number - 10\n",
    "my_number -= 10\n",
    "\n",
    "print(my_number)"
   ]
  },
  {
   "cell_type": "code",
   "execution_count": 43,
   "metadata": {},
   "outputs": [
    {
     "name": "stdout",
     "output_type": "stream",
     "text": [
      "10.5\n",
      "5.0\n"
     ]
    }
   ],
   "source": [
    "15.5 - 10.5\n",
    "\n",
    "my_float - 5.5\n",
    "\n",
    "print(my_float)\n",
    "\n",
    "# my_float = my_float - 5.5\n",
    "my_float -= 5.5\n",
    "\n",
    "print(my_float)"
   ]
  },
  {
   "cell_type": "markdown",
   "metadata": {},
   "source": [
    "##### Multiplication"
   ]
  },
  {
   "cell_type": "code",
   "execution_count": 54,
   "metadata": {},
   "outputs": [
    {
     "name": "stdout",
     "output_type": "stream",
     "text": [
      "10\n",
      "10 50\n"
     ]
    }
   ],
   "source": [
    "10 * 10\n",
    "\n",
    "new_num = 10\n",
    "\n",
    "new_num * 5\n",
    "\n",
    "print(new_num)\n",
    "\n",
    "prod = new_num * 5\n",
    "\n",
    "print(new_num, prod)\n",
    "\n"
   ]
  },
  {
   "cell_type": "code",
   "execution_count": 59,
   "metadata": {},
   "outputs": [
    {
     "name": "stdout",
     "output_type": "stream",
     "text": [
      "25.0\n"
     ]
    }
   ],
   "source": [
    "print(my_float)\n",
    "\n",
    "my_float * new_num\n",
    "\n",
    "# my_float = my_float * 5\n",
    "\n",
    "my_float *= 4.5"
   ]
  },
  {
   "cell_type": "code",
   "execution_count": 60,
   "metadata": {},
   "outputs": [
    {
     "name": "stdout",
     "output_type": "stream",
     "text": [
      "112.5\n"
     ]
    }
   ],
   "source": [
    "print(my_float)"
   ]
  },
  {
   "cell_type": "code",
   "execution_count": null,
   "metadata": {},
   "outputs": [],
   "source": []
  },
  {
   "cell_type": "markdown",
   "metadata": {},
   "source": [
    "##### Division"
   ]
  },
  {
   "cell_type": "code",
   "execution_count": 67,
   "metadata": {},
   "outputs": [
    {
     "name": "stdout",
     "output_type": "stream",
     "text": [
      "2.0\n",
      "2\n",
      "2.5\n",
      "5\n",
      "2.5\n"
     ]
    }
   ],
   "source": [
    "print(10 / 5)\n",
    "\n",
    "print(int(10 / 5))\n",
    "\n",
    "print(my_number / 2)\n",
    "\n",
    "print(my_number)\n",
    "\n",
    "# my_number = my_number / 2\n",
    "my_number /= 2\n",
    "print(my_number)"
   ]
  },
  {
   "cell_type": "markdown",
   "metadata": {},
   "source": [
    "##### Floor Division"
   ]
  },
  {
   "cell_type": "code",
   "execution_count": 79,
   "metadata": {},
   "outputs": [
    {
     "name": "stdout",
     "output_type": "stream",
     "text": [
      "2.0\n",
      "1.0\n",
      "0.0\n"
     ]
    }
   ],
   "source": [
    "11 // 5\n",
    "print(10 // 5.0)\n",
    "\n",
    "my_number // 2\n",
    "\n",
    "print(my_number)\n",
    "\n",
    "# my_number = my_number // 2\n",
    "my_number //= 2\n",
    "\n",
    "print(my_number)"
   ]
  },
  {
   "cell_type": "markdown",
   "metadata": {},
   "source": [
    "##### Modulo"
   ]
  },
  {
   "cell_type": "code",
   "execution_count": 87,
   "metadata": {},
   "outputs": [
    {
     "name": "stdout",
     "output_type": "stream",
     "text": [
      "1\n"
     ]
    }
   ],
   "source": [
    "11 % 5\n",
    "\n",
    "my_number = 10\n",
    "my_number % 3\n",
    "\n",
    "# my_number = my_number % 3\n",
    "my_number %= 3\n",
    "\n",
    "print(my_number)"
   ]
  },
  {
   "cell_type": "markdown",
   "metadata": {},
   "source": [
    "##### Exponential"
   ]
  },
  {
   "cell_type": "code",
   "execution_count": 93,
   "metadata": {},
   "outputs": [
    {
     "name": "stdout",
     "output_type": "stream",
     "text": [
      "10\n"
     ]
    }
   ],
   "source": [
    "10**2\n",
    "\n",
    "new_number = 10\n",
    "\n",
    "new_number**3\n",
    "\n",
    "print(new_number)\n",
    "\n",
    "# new_number = new_number**3\n",
    "new_number **=3"
   ]
  },
  {
   "cell_type": "code",
   "execution_count": 94,
   "metadata": {},
   "outputs": [
    {
     "name": "stdout",
     "output_type": "stream",
     "text": [
      "1000\n"
     ]
    }
   ],
   "source": [
    "print(new_number)"
   ]
  },
  {
   "cell_type": "markdown",
   "metadata": {},
   "source": [
    "### String Input-Output"
   ]
  },
  {
   "cell_type": "markdown",
   "metadata": {},
   "source": [
    "##### String Assignment"
   ]
  },
  {
   "cell_type": "code",
   "execution_count": 97,
   "metadata": {},
   "outputs": [
    {
     "name": "stdout",
     "output_type": "stream",
     "text": [
      "hello world\n",
      "<class 'str'>\n"
     ]
    }
   ],
   "source": [
    "new_string = 'hello world'\n",
    "\n",
    "print(new_string)\n",
    "\n",
    "print(type(new_string))"
   ]
  },
  {
   "cell_type": "markdown",
   "metadata": {},
   "source": [
    "##### print() <br>\n",
    "<p>Don't forget about end=' '</p>"
   ]
  },
  {
   "cell_type": "code",
   "execution_count": 109,
   "metadata": {},
   "outputs": [
    {
     "name": "stdout",
     "output_type": "stream",
     "text": [
      "hello string matrix week-2\n",
      "on new line\n"
     ]
    }
   ],
   "source": [
    "# default end=\"\\n\" ex: print('hello world', end='\\n')\n",
    "\n",
    "print('hello string', end=' ')\n",
    "\n",
    "print('matrix week-2')\n",
    "\n",
    "print('on new line')\n"
   ]
  },
  {
   "cell_type": "markdown",
   "metadata": {},
   "source": [
    "##### String Concatenation"
   ]
  },
  {
   "cell_type": "code",
   "execution_count": 117,
   "metadata": {},
   "outputs": [
    {
     "name": "stdout",
     "output_type": "stream",
     "text": [
      "hello world sean\n",
      "hello world\n"
     ]
    }
   ],
   "source": [
    "instructor = 'sean'\n",
    "\n",
    "print(new_string + ' ' + instructor)\n",
    "\n",
    "print(new_string)\n"
   ]
  },
  {
   "cell_type": "code",
   "execution_count": 119,
   "metadata": {},
   "outputs": [
    {
     "name": "stdout",
     "output_type": "stream",
     "text": [
      "hello world\n",
      "hello world python week\n"
     ]
    }
   ],
   "source": [
    "new_string + ' python week'\n",
    "\n",
    "print(new_string)\n",
    "\n",
    "# new_string = new_string + ' python week'\n",
    "new_string += ' python week'\n",
    "\n",
    "print(new_string)"
   ]
  },
  {
   "cell_type": "markdown",
   "metadata": {},
   "source": [
    "##### Type Conversion"
   ]
  },
  {
   "cell_type": "code",
   "execution_count": 133,
   "metadata": {},
   "outputs": [
    {
     "name": "stdout",
     "output_type": "stream",
     "text": [
      "10.5\n",
      "unable to convert\n"
     ]
    }
   ],
   "source": [
    "type(int('105'))\n",
    "\n",
    "number_string = '10.5'\n",
    "\n",
    "print(number_string)\n",
    "\n",
    "number_string.isdigit()\n",
    "\n",
    "if number_string.isdigit():\n",
    "    int(number_string)\n",
    "else:\n",
    "    print(\"unable to convert\")"
   ]
  },
  {
   "cell_type": "markdown",
   "metadata": {},
   "source": [
    "##### input()"
   ]
  },
  {
   "cell_type": "code",
   "execution_count": 140,
   "metadata": {},
   "outputs": [
    {
     "name": "stdout",
     "output_type": "stream",
     "text": [
      "What is your name: dylan\n"
     ]
    }
   ],
   "source": [
    "name = input(\"What is your name: \")\n",
    "\n",
    "# user_age = int(input(\"what is your age\"))\n",
    "\n",
    "# user_age += 1\n",
    "\n",
    "\n",
    "# print(user_age)"
   ]
  },
  {
   "cell_type": "markdown",
   "metadata": {},
   "source": [
    "##### format()"
   ]
  },
  {
   "cell_type": "code",
   "execution_count": 143,
   "metadata": {},
   "outputs": [
    {
     "name": "stdout",
     "output_type": "stream",
     "text": [
      "arg\n",
      "hello dylan 33\n"
     ]
    }
   ],
   "source": [
    "age = 33\n",
    "print('arg')\n",
    "\n",
    "print('hello {} {}'.format(name, age))"
   ]
  },
  {
   "cell_type": "code",
   "execution_count": 148,
   "metadata": {},
   "outputs": [
    {
     "data": {
      "text/plain": [
       "'hello dylan you are 34 years old'"
      ]
     },
     "execution_count": 148,
     "metadata": {},
     "output_type": "execute_result"
    }
   ],
   "source": [
    "f'hello {name} you are {age + 1} years old'"
   ]
  },
  {
   "cell_type": "markdown",
   "metadata": {},
   "source": [
    "##### Old Way (python 2)"
   ]
  },
  {
   "cell_type": "code",
   "execution_count": 146,
   "metadata": {},
   "outputs": [
    {
     "data": {
      "text/plain": [
       "'Hello dylan you are 33 years old'"
      ]
     },
     "execution_count": 146,
     "metadata": {},
     "output_type": "execute_result"
    }
   ],
   "source": [
    "'Hello %s you are %d years old' %(name, age)"
   ]
  },
  {
   "cell_type": "markdown",
   "metadata": {},
   "source": [
    "# In-Class Exercise 1 <br>\n",
    "<p>Create a format statement that asks for color, year, make, model and prints out the results</p>"
   ]
  },
  {
   "cell_type": "code",
   "execution_count": null,
   "metadata": {},
   "outputs": [],
   "source": []
  },
  {
   "cell_type": "markdown",
   "metadata": {},
   "source": [
    "### If Statements"
   ]
  },
  {
   "cell_type": "code",
   "execution_count": 164,
   "metadata": {},
   "outputs": [
    {
     "name": "stdout",
     "output_type": "stream",
     "text": [
      "False\n",
      "11 > 10 True\n",
      "action two\n",
      "10 equal 10\n",
      "11 >= 11\n",
      "10 >= 9 and 11 == 11\n",
      "10 >= 9 or 11 != 11\n",
      "prevent error short circuit\n",
      "10 == 11 or 9 >= 9\n"
     ]
    }
   ],
   "source": [
    "# Available operators: Greater(>), Less(<),Equal(==) NotEqual(!=)\n",
    "# Greater or Equal(>=), Less or Equal (<=)\n",
    "\n",
    "# Truth Tree:\n",
    "# T and F = F\n",
    "# T and T = T\n",
    "# T or F = T\n",
    "# F or T = T\n",
    "# F or F = F\n",
    "\n",
    "# syntax\n",
    "# if <boolean statement>:\n",
    "#     action\n",
    "print(10 > 11)\n",
    "if 10 > 11:\n",
    "    print('10 > 11 True')\n",
    "    \n",
    "if 11 > 10:\n",
    "    print('11 > 10 True')\n",
    "    print('action two')\n",
    "    \n",
    "if 10 == 10:\n",
    "    print('10 equal 10')\n",
    "    \n",
    "if 10 != 10:\n",
    "    print('not equal')\n",
    "    \n",
    "if 11 >= 11:\n",
    "    print('11 >= 11')\n",
    "    \n",
    "if 10 >= 9 and 11 == 11:\n",
    "    print(\"10 >= 9 and 11 == 11\")\n",
    "    \n",
    "if 10 >= 9 and 11 != 11:\n",
    "    print(\"10 >= 9 and 11 != 11\")\n",
    "    \n",
    "if 10 >= 9 or 11 != 11:\n",
    "    print(\"10 >= 9 or 11 != 11\")\n",
    "    \n",
    "if 10 == 10 or int('abc') > 11:\n",
    "    print('prevent error short circuit')\n",
    "    \n",
    "if 10 == 11 or 9 >= 9:\n",
    "    print('10 == 11 or 9 >= 9')"
   ]
  },
  {
   "cell_type": "markdown",
   "metadata": {},
   "source": [
    "##### 'is' keyword"
   ]
  },
  {
   "cell_type": "code",
   "execution_count": 171,
   "metadata": {
    "scrolled": true
   },
   "outputs": [
    {
     "name": "stdout",
     "output_type": "stream",
     "text": [
      "{'foo': 'bar'}\n"
     ]
    },
    {
     "data": {
      "text/plain": [
       "True"
      ]
     },
     "execution_count": 171,
     "metadata": {},
     "output_type": "execute_result"
    }
   ],
   "source": [
    "# bad practice use ==\n",
    "print(11 is 11)\n",
    "\n",
    "dict1 = {'foo':'bar'}\n",
    "dict2 = {'foo':'bar'}\n",
    "\n",
    "dict3 = dict1\n",
    "\n",
    "print(dict3)\n",
    "\n",
    "dict1 is dict2\n",
    "dict3 is dict1"
   ]
  },
  {
   "cell_type": "markdown",
   "metadata": {},
   "source": [
    "##### 'in' keyword"
   ]
  },
  {
   "cell_type": "code",
   "execution_count": 180,
   "metadata": {},
   "outputs": [],
   "source": [
    "'c' in 'abc'\n",
    "\n",
    "'d' in 'abc'\n",
    "\n",
    "porter_grades = '5,5,5,5,5'\n",
    "\n",
    "if '0' in porter_grades:\n",
    "    print('fail or make sure to catch upo')"
   ]
  },
  {
   "cell_type": "markdown",
   "metadata": {},
   "source": [
    "##### 'not in' keyword'"
   ]
  },
  {
   "cell_type": "code",
   "execution_count": 184,
   "metadata": {},
   "outputs": [
    {
     "name": "stdout",
     "output_type": "stream",
     "text": [
      "Congrats you graduate\n",
      "True\n",
      "False\n"
     ]
    }
   ],
   "source": [
    "if '0' not in porter_grades:\n",
    "    print('Congrats you graduate')\n",
    "    \n",
    "print('z' not in 'foo')\n",
    "print('b' not in 'bar')"
   ]
  },
  {
   "cell_type": "markdown",
   "metadata": {},
   "source": [
    "# In-Class Exercise 2 <br>\n",
    "<p>Ask user for input, check to see if the letter 'p' is in the input</p>"
   ]
  },
  {
   "cell_type": "code",
   "execution_count": 186,
   "metadata": {},
   "outputs": [
    {
     "name": "stdout",
     "output_type": "stream",
     "text": [
      "whats your name ?lil\n",
      "there is no p\n"
     ]
    }
   ],
   "source": [
    "user_input = input (\"whats your name ?\" )\n",
    "\n",
    "\n",
    "if \"p\" in user_input.lower():\n",
    "    print(\"I found p\")  \n",
    "else:\n",
    "    print (\"there is no p\")"
   ]
  },
  {
   "cell_type": "markdown",
   "metadata": {},
   "source": [
    "## Using 'and'/'or' with If Statements"
   ]
  },
  {
   "cell_type": "code",
   "execution_count": 190,
   "metadata": {},
   "outputs": [],
   "source": [
    "# see above\n",
    "\n",
    "if 'foo' in 'foobar' and 'bar' in 'foo':\n",
    "    print('true')"
   ]
  },
  {
   "cell_type": "markdown",
   "metadata": {},
   "source": [
    "### Elif Statements"
   ]
  },
  {
   "cell_type": "code",
   "execution_count": 198,
   "metadata": {},
   "outputs": [
    {
     "name": "stdout",
     "output_type": "stream",
     "text": [
      "today's instuctor is dylan\n"
     ]
    }
   ],
   "source": [
    "if 'dylan' == 'dylan':\n",
    "    print('today\\'s instuctor is dylan')\n",
    "elif 'sean currie' == 'sean currie':\n",
    "    print('your lucky day')"
   ]
  },
  {
   "cell_type": "code",
   "execution_count": null,
   "metadata": {},
   "outputs": [],
   "source": []
  },
  {
   "cell_type": "code",
   "execution_count": 199,
   "metadata": {},
   "outputs": [
    {
     "name": "stdout",
     "output_type": "stream",
     "text": [
      "your lucky day\n"
     ]
    }
   ],
   "source": [
    "if 'dylan' == 'sean currie':\n",
    "    print('today\\'s instuctor is dylan')\n",
    "elif 'sean currie' == 'sean currie':\n",
    "    print('your lucky day')"
   ]
  },
  {
   "cell_type": "code",
   "execution_count": 201,
   "metadata": {},
   "outputs": [
    {
     "name": "stdout",
     "output_type": "stream",
     "text": [
      "back to school\n",
      "monday 2\n"
     ]
    }
   ],
   "source": [
    "today = 'monday'\n",
    "\n",
    "if today == 'sunday':\n",
    "    print('enjoy your last day of weekend')\n",
    "elif today == 'monday':\n",
    "    print('back to school')\n",
    "elif today == 'monday':\n",
    "    print('monday 2')\n",
    "elif today == 'tuesday':\n",
    "    print('working through the week')\n",
    "elif today == 'wednesday':\n",
    "    print('hump day')"
   ]
  },
  {
   "cell_type": "markdown",
   "metadata": {},
   "source": [
    "### Else Statements"
   ]
  },
  {
   "cell_type": "code",
   "execution_count": 215,
   "metadata": {},
   "outputs": [
    {
     "name": "stdout",
     "output_type": "stream",
     "text": [
      "10 > 9 and 10 < 11\n"
     ]
    }
   ],
   "source": [
    "if 9 < 10 < 11:\n",
    "    print('10 > 9 and 10 < 11')"
   ]
  },
  {
   "cell_type": "code",
   "execution_count": 211,
   "metadata": {},
   "outputs": [
    {
     "name": "stdout",
     "output_type": "stream",
     "text": [
      "time for school\n"
     ]
    }
   ],
   "source": [
    "if today == 'saturday' or today == 'sunday':\n",
    "    print('Its the weekend')\n",
    "else:\n",
    "    print('time for school')"
   ]
  },
  {
   "cell_type": "code",
   "execution_count": 209,
   "metadata": {},
   "outputs": [
    {
     "name": "stdout",
     "output_type": "stream",
     "text": [
      "one letter\n"
     ]
    }
   ],
   "source": [
    "if '':\n",
    "    print('empty string')\n",
    "if 'a':\n",
    "    print('one letter')"
   ]
  },
  {
   "cell_type": "markdown",
   "metadata": {},
   "source": [
    "### For Loops"
   ]
  },
  {
   "cell_type": "code",
   "execution_count": 220,
   "metadata": {},
   "outputs": [
    {
     "name": "stdout",
     "output_type": "stream",
     "text": [
      "s\n",
      "line two\n",
      "e\n",
      "line two\n",
      "a\n",
      "line two\n",
      "n\n",
      "line two\n",
      " \n",
      "line two\n",
      "c\n",
      "line two\n",
      "u\n",
      "line two\n",
      "r\n",
      "line two\n",
      "r\n",
      "line two\n",
      "i\n",
      "line two\n",
      "e\n",
      "line two\n",
      "completed\n"
     ]
    }
   ],
   "source": [
    "instructor = 'sean currie'\n",
    "\n",
    "for letter in instructor:\n",
    "    print(letter)\n",
    "    print('line two')\n",
    "\n",
    "print('completed')"
   ]
  },
  {
   "cell_type": "code",
   "execution_count": 230,
   "metadata": {},
   "outputs": [
    {
     "name": "stdout",
     "output_type": "stream",
     "text": [
      "0\n",
      "5\n",
      "go to next number\n",
      "\n",
      "1\n",
      "6\n",
      "go to next number\n",
      "\n",
      "2\n",
      "7\n",
      "go to next number\n",
      "\n",
      "3\n",
      "8\n",
      "go to next number\n",
      "\n",
      "4\n",
      "9\n",
      "go to next number\n",
      "\n",
      "5\n",
      "10\n",
      "go to next number\n",
      "\n",
      "6\n",
      "11\n",
      "go to next number\n",
      "\n",
      "7\n",
      "12\n",
      "go to next number\n",
      "\n",
      "8\n",
      "13\n",
      "go to next number\n",
      "\n",
      "9\n",
      "14\n",
      "go to next number\n",
      "\n",
      "10\n",
      "15\n",
      "go to next number\n",
      "\n",
      "11\n",
      "16\n",
      "go to next number\n",
      "\n",
      "12\n",
      "17\n",
      "go to next number\n",
      "\n",
      "13\n",
      "18\n",
      "go to next number\n",
      "\n",
      "14\n",
      "19\n",
      "go to next number\n",
      "\n",
      "15\n",
      "20\n",
      "go to next number\n",
      "\n",
      "16\n",
      "21\n",
      "go to next number\n",
      "\n",
      "17\n",
      "22\n",
      "go to next number\n",
      "\n",
      "18\n",
      "23\n",
      "go to next number\n",
      "\n",
      "19\n",
      "24\n",
      "range loop complete\n"
     ]
    }
   ],
   "source": [
    "for num in range(20):\n",
    "    print(num)\n",
    "    num += 5\n",
    "    print(num)\n",
    "    if num - 5 != 19:\n",
    "        print('go to next number\\n')\n",
    "    \n",
    "print('range loop complete')"
   ]
  },
  {
   "cell_type": "code",
   "execution_count": 244,
   "metadata": {},
   "outputs": [
    {
     "name": "stdout",
     "output_type": "stream",
     "text": [
      "index= 0, eleement= s\n",
      "index= 1, eleement= e\n",
      "index= 2, eleement= a\n",
      "index= 3, eleement= n\n",
      "index= 4, eleement=  \n",
      "index= 5, eleement= c\n",
      "index= 6, eleement= u\n",
      "index= 7, eleement= r\n",
      "index= 8, eleement= r\n",
      "index= 9, eleement= i\n",
      "index= 10, eleement= e\n"
     ]
    },
    {
     "data": {
      "text/plain": [
       "'o'"
      ]
     },
     "execution_count": 244,
     "metadata": {},
     "output_type": "execute_result"
    }
   ],
   "source": [
    "# print(len(instructor))\n",
    "# print(list(range(11)))\n",
    "# print(instructor)\n",
    "\n",
    "\n",
    "for i in range(len(instructor)):\n",
    "    print(f'index= {i}, eleement= {instructor[i]}')\n",
    "    \n",
    "    \n",
    "'foo bar'[3]"
   ]
  },
  {
   "cell_type": "markdown",
   "metadata": {},
   "source": [
    "##### Using 'in' keyword"
   ]
  },
  {
   "cell_type": "code",
   "execution_count": 46,
   "metadata": {},
   "outputs": [],
   "source": [
    "# see above"
   ]
  },
  {
   "cell_type": "markdown",
   "metadata": {},
   "source": [
    "##### Continue Statement"
   ]
  },
  {
   "cell_type": "code",
   "execution_count": 47,
   "metadata": {},
   "outputs": [],
   "source": [
    "# will continue to next iteration"
   ]
  },
  {
   "cell_type": "code",
   "execution_count": 247,
   "metadata": {},
   "outputs": [
    {
     "name": "stdout",
     "output_type": "stream",
     "text": [
      "0\n",
      "1\n",
      "2\n",
      "3\n",
      "4\n",
      "6\n",
      "7\n",
      "8\n",
      "9\n",
      "11\n",
      "12\n",
      "13\n",
      "14\n",
      "15\n",
      "16\n",
      "17\n",
      "18\n",
      "19\n"
     ]
    }
   ],
   "source": [
    "for num in range(20):\n",
    "    if num == 5 or num == 10:\n",
    "        continue\n",
    "    print(num)"
   ]
  },
  {
   "cell_type": "markdown",
   "metadata": {},
   "source": [
    "##### Break Statement"
   ]
  },
  {
   "cell_type": "code",
   "execution_count": 48,
   "metadata": {},
   "outputs": [],
   "source": [
    "# will break out of current loop"
   ]
  },
  {
   "cell_type": "code",
   "execution_count": 249,
   "metadata": {},
   "outputs": [
    {
     "name": "stdout",
     "output_type": "stream",
     "text": [
      "0\n",
      "1\n",
      "2\n",
      "3\n",
      "4\n",
      "out of loop\n"
     ]
    }
   ],
   "source": [
    "for num in range(20):\n",
    "    if num == 5:\n",
    "        break\n",
    "    print(num)\n",
    "\n",
    "print('out of loop')"
   ]
  },
  {
   "cell_type": "markdown",
   "metadata": {},
   "source": [
    "##### Pass Statement"
   ]
  },
  {
   "cell_type": "code",
   "execution_count": 255,
   "metadata": {},
   "outputs": [
    {
     "name": "stdout",
     "output_type": "stream",
     "text": [
      "give me data: test\n"
     ]
    }
   ],
   "source": [
    "# mostly used as a placeholder, and will continue on same iteration\n",
    "\n",
    "def get_user_data():\n",
    "    input('give me data: ')\n",
    "def handle_user_data():\n",
    "    pass\n",
    "\n",
    "get_user_data()"
   ]
  },
  {
   "cell_type": "code",
   "execution_count": 257,
   "metadata": {},
   "outputs": [
    {
     "name": "stdout",
     "output_type": "stream",
     "text": [
      "0\n",
      "1\n",
      "2\n",
      "3\n",
      "4\n",
      "5\n",
      "6\n",
      "7\n",
      "8\n",
      "9\n",
      "10\n",
      "11\n",
      "12\n",
      "13\n",
      "14\n",
      "15\n",
      "16\n",
      "17\n",
      "18\n",
      "19\n"
     ]
    }
   ],
   "source": [
    "for num in range(20):\n",
    "    if num == 5:\n",
    "        pass\n",
    "    print(num)"
   ]
  },
  {
   "cell_type": "markdown",
   "metadata": {},
   "source": [
    "##### Double For Loops"
   ]
  },
  {
   "cell_type": "code",
   "execution_count": 265,
   "metadata": {},
   "outputs": [
    {
     "name": "stdout",
     "output_type": "stream",
     "text": [
      "0 s\n",
      "0 e\n",
      "0 a\n",
      "0 n\n",
      "0  \n",
      "0 c\n",
      "0 u\n",
      "0 r\n",
      "0 r\n",
      "0 i\n",
      "0 e\n",
      "nested loop complete\n",
      "\n",
      "1 s\n",
      "1 e\n",
      "1 a\n",
      "1 n\n",
      "1  \n",
      "1 c\n",
      "1 u\n",
      "1 r\n",
      "1 r\n",
      "1 i\n",
      "1 e\n",
      "nested loop complete\n",
      "\n",
      "2 s\n",
      "2 e\n",
      "2 a\n",
      "2 n\n",
      "2  \n",
      "2 c\n",
      "2 u\n",
      "2 r\n",
      "2 r\n",
      "2 i\n",
      "2 e\n",
      "nested loop complete\n",
      "\n",
      "3 s\n",
      "3 e\n",
      "3 a\n",
      "3 n\n",
      "3  \n",
      "3 c\n",
      "3 u\n",
      "3 r\n",
      "3 r\n",
      "3 i\n",
      "3 e\n",
      "nested loop complete\n",
      "\n",
      "4 s\n",
      "4 e\n",
      "4 a\n",
      "4 n\n",
      "4  \n",
      "4 c\n",
      "4 u\n",
      "4 r\n",
      "4 r\n",
      "4 i\n",
      "4 e\n",
      "nested loop complete\n",
      "\n",
      "0\n"
     ]
    }
   ],
   "source": [
    "step = 0\n",
    "for num in range(5):\n",
    "    for letter in 'sean currie':\n",
    "        print(num, letter)\n",
    "    print('nested loop complete\\n')\n",
    "\n",
    "print(step)"
   ]
  },
  {
   "cell_type": "code",
   "execution_count": 276,
   "metadata": {},
   "outputs": [
    {
     "name": "stdout",
     "output_type": "stream",
     "text": [
      "a\n",
      "a\n"
     ]
    }
   ],
   "source": [
    "# print any duplicate letters\n",
    "\n",
    "our_string = \"matrixa\"\n",
    "\n",
    "for i,letter in enumerate(our_string):\n",
    "    for y, letter2 in enumerate(our_string):\n",
    "        if i != y and letter == letter2:\n",
    "            print(letter)\n",
    "            "
   ]
  },
  {
   "cell_type": "code",
   "execution_count": 272,
   "metadata": {},
   "outputs": [
    {
     "data": {
      "text/plain": [
       "[(0, 'm'), (1, 'a'), (2, 't'), (3, 'r'), (4, 'i'), (5, 'x'), (6, 'a')]"
      ]
     },
     "execution_count": 272,
     "metadata": {},
     "output_type": "execute_result"
    }
   ],
   "source": [
    "list(enumerate('matrixa'))"
   ]
  },
  {
   "cell_type": "markdown",
   "metadata": {},
   "source": [
    "### While Loops"
   ]
  },
  {
   "cell_type": "code",
   "execution_count": 5,
   "metadata": {},
   "outputs": [
    {
     "name": "stdout",
     "output_type": "stream",
     "text": [
      "0\n",
      "1\n",
      "2\n",
      "3\n",
      "4\n",
      "5\n",
      "6\n",
      "7\n",
      "8\n",
      "9\n",
      "10\n",
      "11\n",
      "12\n",
      "13\n",
      "14\n",
      "15\n",
      "16\n",
      "17\n",
      "18\n",
      "19\n",
      "completre\n",
      "Are you ready to play: [y/n]: y\n",
      "having tons of fun\n",
      "Are you still playing play: [y/n]: y\n",
      "having tons of fun\n",
      "Are you still playing play: [y/n]: y\n",
      "having tons of fun\n",
      "Are you still playing play: [y/n]: n\n"
     ]
    }
   ],
   "source": [
    "# while <condition | boolean expression>:\n",
    "#     <code block>\n",
    "num = 0\n",
    "while num < 20:\n",
    "    print(num)\n",
    "    num += 1\n",
    "\n",
    "print('completre')\n",
    "\n",
    "playing = input('Are you ready to play: [y/n]: ')\n",
    "\n",
    "while playing == 'y':\n",
    "    print('having tons of fun')\n",
    "    playing = input('Are you still playing play: [y/n]: ')"
   ]
  },
  {
   "cell_type": "markdown",
   "metadata": {},
   "source": [
    "##### Looping 'While True'"
   ]
  },
  {
   "cell_type": "code",
   "execution_count": 6,
   "metadata": {},
   "outputs": [
    {
     "name": "stdout",
     "output_type": "stream",
     "text": [
      "Are you still playing play: [y/n]: y\n",
      "Are you still playing play: [y/n]: y\n",
      "Are you still playing play: [y/n]: n\n"
     ]
    }
   ],
   "source": [
    "while True:\n",
    "    playing = input('Are you still playing play: [y/n]: ')\n",
    "    \n",
    "    if playing == 'n':\n",
    "        break"
   ]
  },
  {
   "cell_type": "markdown",
   "metadata": {},
   "source": [
    "##### While & For Loops Used Together"
   ]
  },
  {
   "cell_type": "code",
   "execution_count": 16,
   "metadata": {},
   "outputs": [
    {
     "name": "stdout",
     "output_type": "stream",
     "text": [
      "num = 0 letter = 's'\n",
      "num = 0 letter = 'e'\n",
      "num = 0 letter = 'a'\n",
      "num = 0 letter = 'n'\n",
      "num = 0 letter = ' '\n",
      "num = 0 letter = 'c'\n",
      "num = 0 letter = 'u'\n",
      "num = 0 letter = 'r'\n",
      "num = 0 letter = 'r'\n",
      "num = 0 letter = 'i'\n",
      "num = 0 letter = 'e'\n",
      "nested loop complete\n",
      "\n",
      "num = 1 letter = 's'\n",
      "num = 1 letter = 'e'\n",
      "num = 1 letter = 'a'\n",
      "num = 1 letter = 'n'\n",
      "num = 1 letter = ' '\n",
      "num = 1 letter = 'c'\n",
      "num = 1 letter = 'u'\n",
      "num = 1 letter = 'r'\n",
      "num = 1 letter = 'r'\n",
      "num = 1 letter = 'i'\n",
      "num = 1 letter = 'e'\n",
      "nested loop complete\n",
      "\n",
      "num = 2 letter = 's'\n",
      "num = 2 letter = 'e'\n",
      "num = 2 letter = 'a'\n",
      "num = 2 letter = 'n'\n",
      "num = 2 letter = ' '\n",
      "num = 2 letter = 'c'\n",
      "num = 2 letter = 'u'\n",
      "num = 2 letter = 'r'\n",
      "num = 2 letter = 'r'\n",
      "num = 2 letter = 'i'\n",
      "num = 2 letter = 'e'\n",
      "nested loop complete\n",
      "\n",
      "num = 3 letter = 's'\n",
      "num = 3 letter = 'e'\n",
      "num = 3 letter = 'a'\n",
      "num = 3 letter = 'n'\n",
      "num = 3 letter = ' '\n",
      "num = 3 letter = 'c'\n",
      "num = 3 letter = 'u'\n",
      "num = 3 letter = 'r'\n",
      "num = 3 letter = 'r'\n",
      "num = 3 letter = 'i'\n",
      "num = 3 letter = 'e'\n",
      "nested loop complete\n",
      "\n",
      "num = 4 letter = 's'\n",
      "num = 4 letter = 'e'\n",
      "num = 4 letter = 'a'\n",
      "num = 4 letter = 'n'\n",
      "num = 4 letter = ' '\n",
      "num = 4 letter = 'c'\n",
      "num = 4 letter = 'u'\n",
      "num = 4 letter = 'r'\n",
      "num = 4 letter = 'r'\n",
      "num = 4 letter = 'i'\n",
      "num = 4 letter = 'e'\n",
      "nested loop complete\n",
      "\n"
     ]
    }
   ],
   "source": [
    "num = 0\n",
    "while num < 5:\n",
    "    for letter in 'sean currie':\n",
    "        print(f'{num = } {letter = }')\n",
    "    num += 1\n",
    "    print('nested loop complete\\n')"
   ]
  },
  {
   "cell_type": "markdown",
   "metadata": {},
   "source": [
    "### Built-In Functions"
   ]
  },
  {
   "cell_type": "markdown",
   "metadata": {},
   "source": [
    "##### range()"
   ]
  },
  {
   "cell_type": "code",
   "execution_count": 225,
   "metadata": {},
   "outputs": [
    {
     "data": {
      "text/plain": [
       "[1, 3, 5, 7, 9, 11, 13, 15, 17, 19]"
      ]
     },
     "execution_count": 225,
     "metadata": {},
     "output_type": "execute_result"
    }
   ],
   "source": [
    "list(range(20))\n",
    "\n",
    "# syntax range(start=0, stop, step=1)\n",
    "\n",
    "list(range(1,21,2))"
   ]
  },
  {
   "cell_type": "markdown",
   "metadata": {},
   "source": [
    "##### len()"
   ]
  },
  {
   "cell_type": "code",
   "execution_count": 18,
   "metadata": {},
   "outputs": [
    {
     "data": {
      "text/plain": [
       "6"
      ]
     },
     "execution_count": 18,
     "metadata": {},
     "output_type": "execute_result"
    }
   ],
   "source": [
    "len('dylan')"
   ]
  },
  {
   "cell_type": "markdown",
   "metadata": {},
   "source": [
    "##### help()"
   ]
  },
  {
   "cell_type": "code",
   "execution_count": 19,
   "metadata": {},
   "outputs": [
    {
     "name": "stdout",
     "output_type": "stream",
     "text": [
      "Help on built-in function len in module builtins:\n",
      "\n",
      "len(obj, /)\n",
      "    Return the number of items in a container.\n",
      "\n"
     ]
    }
   ],
   "source": [
    "help(len)"
   ]
  },
  {
   "cell_type": "markdown",
   "metadata": {},
   "source": [
    "##### isinstance()"
   ]
  },
  {
   "cell_type": "code",
   "execution_count": 29,
   "metadata": {},
   "outputs": [
    {
     "name": "stdout",
     "output_type": "stream",
     "text": [
      "Help on built-in function isinstance in module builtins:\n",
      "\n",
      "isinstance(obj, class_or_tuple, /)\n",
      "    Return whether an object is an instance of a class or of a subclass thereof.\n",
      "    \n",
      "    A tuple, as in ``isinstance(x, (A, B, ...))``, may be given as the target to\n",
      "    check against. This is equivalent to ``isinstance(x, A) or isinstance(x, B)\n",
      "    or ...`` etc.\n",
      "\n"
     ]
    }
   ],
   "source": [
    "help(isinstance)\n",
    "\n",
    "isinstance(1,(str, int))\n",
    "\n",
    "isinstance(1,int)\n",
    "isinstance('abc',str)\n",
    "\n",
    "\n",
    "age = '33'\n",
    "\n",
    "if isinstance(age,int):\n",
    "    print(age + 1)"
   ]
  },
  {
   "cell_type": "markdown",
   "metadata": {},
   "source": [
    "##### abs()"
   ]
  },
  {
   "cell_type": "code",
   "execution_count": 33,
   "metadata": {},
   "outputs": [
    {
     "data": {
      "text/plain": [
       "True"
      ]
     },
     "execution_count": 33,
     "metadata": {},
     "output_type": "execute_result"
    }
   ],
   "source": [
    "abs(-5) == 5 == abs(5)"
   ]
  },
  {
   "cell_type": "markdown",
   "metadata": {},
   "source": [
    "### Try and Except"
   ]
  },
  {
   "cell_type": "code",
   "execution_count": 38,
   "metadata": {},
   "outputs": [
    {
     "name": "stdout",
     "output_type": "stream",
     "text": [
      "enter your age: dsfdas\n"
     ]
    },
    {
     "ename": "ValueError",
     "evalue": "invalid literal for int() with base 10: 'dsfdas'",
     "output_type": "error",
     "traceback": [
      "\u001b[1;31m---------------------------------------------------------------------------\u001b[0m",
      "\u001b[1;31mValueError\u001b[0m                                Traceback (most recent call last)",
      "\u001b[1;32m~\\AppData\\Local\\Temp\\ipykernel_9920\\3219334146.py\u001b[0m in \u001b[0;36m<module>\u001b[1;34m\u001b[0m\n\u001b[1;32m----> 1\u001b[1;33m \u001b[0mage\u001b[0m \u001b[1;33m=\u001b[0m \u001b[0mint\u001b[0m\u001b[1;33m(\u001b[0m\u001b[0minput\u001b[0m\u001b[1;33m(\u001b[0m\u001b[1;34m'enter your age: '\u001b[0m\u001b[1;33m)\u001b[0m\u001b[1;33m)\u001b[0m\u001b[1;33m\u001b[0m\u001b[1;33m\u001b[0m\u001b[0m\n\u001b[0m",
      "\u001b[1;31mValueError\u001b[0m: invalid literal for int() with base 10: 'dsfdas'"
     ]
    }
   ],
   "source": [
    " age = int(input('enter your age: '))"
   ]
  },
  {
   "cell_type": "code",
   "execution_count": 39,
   "metadata": {},
   "outputs": [
    {
     "name": "stdout",
     "output_type": "stream",
     "text": [
      "enter your age: abc\n",
      "please enter age in digits ex: 33\n"
     ]
    },
    {
     "ename": "KeyboardInterrupt",
     "evalue": "Interrupted by user",
     "output_type": "error",
     "traceback": [
      "\u001b[1;31m---------------------------------------------------------------------------\u001b[0m",
      "\u001b[1;31mKeyboardInterrupt\u001b[0m                         Traceback (most recent call last)",
      "\u001b[1;32m~\\AppData\\Local\\Temp\\ipykernel_9920\\1885074682.py\u001b[0m in \u001b[0;36m<module>\u001b[1;34m\u001b[0m\n\u001b[0;32m      1\u001b[0m \u001b[1;32mwhile\u001b[0m \u001b[1;32mTrue\u001b[0m\u001b[1;33m:\u001b[0m\u001b[1;33m\u001b[0m\u001b[1;33m\u001b[0m\u001b[0m\n\u001b[0;32m      2\u001b[0m \u001b[1;33m\u001b[0m\u001b[0m\n\u001b[1;32m----> 3\u001b[1;33m     \u001b[0mage\u001b[0m \u001b[1;33m=\u001b[0m \u001b[0minput\u001b[0m\u001b[1;33m(\u001b[0m\u001b[1;34m'enter your age: '\u001b[0m\u001b[1;33m)\u001b[0m\u001b[1;33m\u001b[0m\u001b[1;33m\u001b[0m\u001b[0m\n\u001b[0m\u001b[0;32m      4\u001b[0m \u001b[1;33m\u001b[0m\u001b[0m\n\u001b[0;32m      5\u001b[0m     \u001b[1;32mtry\u001b[0m\u001b[1;33m:\u001b[0m\u001b[1;33m\u001b[0m\u001b[1;33m\u001b[0m\u001b[0m\n",
      "\u001b[1;32m~\\anaconda3\\lib\\site-packages\\ipykernel\\kernelbase.py\u001b[0m in \u001b[0;36mraw_input\u001b[1;34m(self, prompt)\u001b[0m\n\u001b[0;32m   1175\u001b[0m                 \u001b[1;34m\"raw_input was called, but this frontend does not support input requests.\"\u001b[0m\u001b[1;33m\u001b[0m\u001b[1;33m\u001b[0m\u001b[0m\n\u001b[0;32m   1176\u001b[0m             )\n\u001b[1;32m-> 1177\u001b[1;33m         return self._input_request(\n\u001b[0m\u001b[0;32m   1178\u001b[0m             \u001b[0mstr\u001b[0m\u001b[1;33m(\u001b[0m\u001b[0mprompt\u001b[0m\u001b[1;33m)\u001b[0m\u001b[1;33m,\u001b[0m\u001b[1;33m\u001b[0m\u001b[1;33m\u001b[0m\u001b[0m\n\u001b[0;32m   1179\u001b[0m             \u001b[0mself\u001b[0m\u001b[1;33m.\u001b[0m\u001b[0m_parent_ident\u001b[0m\u001b[1;33m[\u001b[0m\u001b[1;34m\"shell\"\u001b[0m\u001b[1;33m]\u001b[0m\u001b[1;33m,\u001b[0m\u001b[1;33m\u001b[0m\u001b[1;33m\u001b[0m\u001b[0m\n",
      "\u001b[1;32m~\\anaconda3\\lib\\site-packages\\ipykernel\\kernelbase.py\u001b[0m in \u001b[0;36m_input_request\u001b[1;34m(self, prompt, ident, parent, password)\u001b[0m\n\u001b[0;32m   1217\u001b[0m             \u001b[1;32mexcept\u001b[0m \u001b[0mKeyboardInterrupt\u001b[0m\u001b[1;33m:\u001b[0m\u001b[1;33m\u001b[0m\u001b[1;33m\u001b[0m\u001b[0m\n\u001b[0;32m   1218\u001b[0m                 \u001b[1;31m# re-raise KeyboardInterrupt, to truncate traceback\u001b[0m\u001b[1;33m\u001b[0m\u001b[1;33m\u001b[0m\u001b[0m\n\u001b[1;32m-> 1219\u001b[1;33m                 \u001b[1;32mraise\u001b[0m \u001b[0mKeyboardInterrupt\u001b[0m\u001b[1;33m(\u001b[0m\u001b[1;34m\"Interrupted by user\"\u001b[0m\u001b[1;33m)\u001b[0m \u001b[1;32mfrom\u001b[0m \u001b[1;32mNone\u001b[0m\u001b[1;33m\u001b[0m\u001b[1;33m\u001b[0m\u001b[0m\n\u001b[0m\u001b[0;32m   1220\u001b[0m             \u001b[1;32mexcept\u001b[0m \u001b[0mException\u001b[0m\u001b[1;33m:\u001b[0m\u001b[1;33m\u001b[0m\u001b[1;33m\u001b[0m\u001b[0m\n\u001b[0;32m   1221\u001b[0m                 \u001b[0mself\u001b[0m\u001b[1;33m.\u001b[0m\u001b[0mlog\u001b[0m\u001b[1;33m.\u001b[0m\u001b[0mwarning\u001b[0m\u001b[1;33m(\u001b[0m\u001b[1;34m\"Invalid Message:\"\u001b[0m\u001b[1;33m,\u001b[0m \u001b[0mexc_info\u001b[0m\u001b[1;33m=\u001b[0m\u001b[1;32mTrue\u001b[0m\u001b[1;33m)\u001b[0m\u001b[1;33m\u001b[0m\u001b[1;33m\u001b[0m\u001b[0m\n",
      "\u001b[1;31mKeyboardInterrupt\u001b[0m: Interrupted by user"
     ]
    }
   ],
   "source": [
    "while True:\n",
    "\n",
    "    age = input('enter your age: ')\n",
    "\n",
    "    try:\n",
    "        age = int(age)\n",
    "        break\n",
    "    except ValueError:\n",
    "        print('please enter age in digits ex: 33')\n",
    "    except:\n",
    "        print(\"i dont know\")\n",
    "        \n",
    "age = int(age)\n"
   ]
  },
  {
   "cell_type": "markdown",
   "metadata": {},
   "source": [
    "### Lists"
   ]
  },
  {
   "cell_type": "markdown",
   "metadata": {},
   "source": [
    "##### Declaring Lists"
   ]
  },
  {
   "cell_type": "code",
   "execution_count": null,
   "metadata": {},
   "outputs": [],
   "source": []
  },
  {
   "cell_type": "markdown",
   "metadata": {},
   "source": [
    "##### Indexing a List"
   ]
  },
  {
   "cell_type": "code",
   "execution_count": null,
   "metadata": {},
   "outputs": [],
   "source": []
  },
  {
   "cell_type": "markdown",
   "metadata": {},
   "source": [
    "##### .append()"
   ]
  },
  {
   "cell_type": "code",
   "execution_count": null,
   "metadata": {},
   "outputs": [],
   "source": []
  },
  {
   "cell_type": "markdown",
   "metadata": {},
   "source": [
    "##### .insert()"
   ]
  },
  {
   "cell_type": "code",
   "execution_count": null,
   "metadata": {},
   "outputs": [],
   "source": []
  },
  {
   "cell_type": "markdown",
   "metadata": {},
   "source": [
    "##### .pop()"
   ]
  },
  {
   "cell_type": "code",
   "execution_count": null,
   "metadata": {},
   "outputs": [],
   "source": []
  },
  {
   "cell_type": "markdown",
   "metadata": {},
   "source": [
    "\n",
    "##### .remove()"
   ]
  },
  {
   "cell_type": "code",
   "execution_count": null,
   "metadata": {},
   "outputs": [],
   "source": []
  },
  {
   "cell_type": "markdown",
   "metadata": {},
   "source": [
    "##### del()"
   ]
  },
  {
   "cell_type": "code",
   "execution_count": null,
   "metadata": {},
   "outputs": [],
   "source": []
  },
  {
   "cell_type": "markdown",
   "metadata": {},
   "source": [
    "##### Concatenating Two Lists"
   ]
  },
  {
   "cell_type": "code",
   "execution_count": null,
   "metadata": {},
   "outputs": [],
   "source": []
  },
  {
   "cell_type": "markdown",
   "metadata": {},
   "source": [
    "##### Lists Within Lists"
   ]
  },
  {
   "cell_type": "code",
   "execution_count": null,
   "metadata": {},
   "outputs": [],
   "source": []
  },
  {
   "cell_type": "markdown",
   "metadata": {},
   "source": [
    "##### Looping Through Lists"
   ]
  },
  {
   "cell_type": "code",
   "execution_count": null,
   "metadata": {},
   "outputs": [],
   "source": []
  },
  {
   "cell_type": "markdown",
   "metadata": {},
   "source": [
    "## Exercise #1 <br>\n",
    "<p>Cube Number Test... Print out all cubed numbers up to the total value 1000. Meaning that if the cubed number is over 1000 break the loop.</p>"
   ]
  },
  {
   "cell_type": "code",
   "execution_count": 40,
   "metadata": {},
   "outputs": [
    {
     "name": "stdout",
     "output_type": "stream",
     "text": [
      "1000\n"
     ]
    }
   ],
   "source": [
    "print(10**3)"
   ]
  },
  {
   "cell_type": "markdown",
   "metadata": {},
   "source": [
    "## Exercise #2 <br>\n",
    "<p>Get first prime numbers up to 100</p>"
   ]
  },
  {
   "cell_type": "code",
   "execution_count": 50,
   "metadata": {},
   "outputs": [],
   "source": [
    "# HINT::\n",
    "# An else after an if runs if the if didn’t\n",
    "# An else after a for runs if the for didn’t break\n",
    "\n",
    "\n"
   ]
  },
  {
   "cell_type": "markdown",
   "metadata": {},
   "source": [
    "# Exercise 3 <br>\n",
    "<p>Take in a users input for their age, if they are younger than 18 print kids, if they're 18 to 65 print adults, else print seniors</p>"
   ]
  },
  {
   "cell_type": "code",
   "execution_count": null,
   "metadata": {},
   "outputs": [],
   "source": []
  }
 ],
 "metadata": {
  "kernelspec": {
   "display_name": "Python 3 (ipykernel)",
   "language": "python",
   "name": "python3"
  },
  "language_info": {
   "codemirror_mode": {
    "name": "ipython",
    "version": 3
   },
   "file_extension": ".py",
   "mimetype": "text/x-python",
   "name": "python",
   "nbconvert_exporter": "python",
   "pygments_lexer": "ipython3",
   "version": "3.9.13"
  }
 },
 "nbformat": 4,
 "nbformat_minor": 2
}
